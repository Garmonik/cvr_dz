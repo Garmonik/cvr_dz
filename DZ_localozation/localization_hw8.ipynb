{
  "cells": [
    {
      "cell_type": "markdown",
      "id": "acquired-accused",
      "metadata": {
        "id": "acquired-accused"
      },
      "source": [
        "# Локализация. Упражнения"
      ]
    },
    {
      "cell_type": "markdown",
      "id": "electric-shannon",
      "metadata": {
        "id": "electric-shannon"
      },
      "source": [
        "В этих упражнениях вам предлагается реализовать простые алгоритмы локализации роботов. На лекции, помимо фильтра частиц, были упомянуты методы триангуляции и альфа-бета фильтр. Давайте их реализуем: обе реализации должны быть сделаны в виде класса, у которого должен быть метод update. Метод update принимает на вход измеренения с камеры о положении ориентиров в сосбтвенной системе координат робота."
      ]
    },
    {
      "cell_type": "markdown",
      "id": "trained-funds",
      "metadata": {
        "id": "trained-funds"
      },
      "source": [
        "В качестве ориентиров будем использовать координаты стоек ворот. Для удобства будем пользоваться упрощенным вариантом, при котором ворота разных цветов. В словаре храняться положения стоек в глобальной системе координат (точка (0, 0) нахождится в центре поля)"
      ]
    },
    {
      "cell_type": "code",
      "execution_count": 13,
      "id": "artistic-holocaust",
      "metadata": {
        "id": "artistic-holocaust"
      },
      "outputs": [],
      "source": [
        "landmarks = {\n",
        "    \"blue_posts\": [\n",
        "        [ -4.5, -1.0], [ -4.5, 1.0]\n",
        "    ],\n",
        "    \"yellow_posts\":[\n",
        "        [ 4.5, -1.0], [ 4.5, 1.0]\n",
        "    ]\n",
        "}"
      ]
    },
    {
      "cell_type": "markdown",
      "id": "gross-browse",
      "metadata": {
        "id": "gross-browse"
      },
      "source": [
        "Пример данных, которые могут поступать в модуль на одном шаге всей системы. Данные во втором словаре – это данные одометрии с собвственной информацией робота о перемещении за один шаг системы. Для проверки работы придумайте и запишите набор данных с такой же структурой. "
      ]
    },
    {
      "cell_type": "code",
      "execution_count": 14,
      "id": "freelance-clothing",
      "metadata": {
        "id": "freelance-clothing"
      },
      "outputs": [],
      "source": [
        "observations = {\"yellow_posts\":[[4.45, -0.99],[4.49, 1.09]], \"blue_posts\":[]}\n",
        "shift = {'shift_x':0.0, 'shift_y':0.01, 'shift_angle':-0.4}"
      ]
    },
    {
      "cell_type": "markdown",
      "id": "behind-mouth",
      "metadata": {
        "id": "behind-mouth"
      },
      "source": [
        "### 1) Реализовать локализацию триангуляцией (3 балл)\n",
        "    "
      ]
    },
    {
      "cell_type": "code",
      "source": [
        "class Robot:\n",
        "  def __init__(self,x=0,y=0,ang=0):\n",
        "    self.x = x\n",
        "    self.y = y\n",
        "    self.ang = ang"
      ],
      "metadata": {
        "id": "WHeK_B3yEZpn"
      },
      "id": "WHeK_B3yEZpn",
      "execution_count": 15,
      "outputs": []
    },
    {
      "cell_type": "code",
      "execution_count": 16,
      "id": "funded-external",
      "metadata": {
        "id": "funded-external"
      },
      "outputs": [],
      "source": [
        "from math import sqrt, atan\n",
        "class localization_triangulation:\n",
        "    \n",
        "    #put your code here\n",
        "    def __init__(self,robot,landmarks):\n",
        "      self.robot = robot\n",
        "      self.landmarks = landmarks\n",
        "    \n",
        "    def get_points_of_intersection(self,x10, y10, r1 , x20, y20, r2):\n",
        "      d = sqrt((x10-x20)**2 + (y10-y20)**2)\n",
        "      if d > r1+r2 : return 0;\n",
        "      a = (r1*r1 - r2*r2 + d*d ) / (2*d)\n",
        "      h = sqrt(r1**2 - a**2)\n",
        "      x0 = x10 + a*(x20 - x10)/d;\n",
        "      y0 = y10 + a*(y20 - y10)/d;\n",
        "      x1= x0 + h*(y20 - y10)/d;\n",
        "      y1= y0 - h*(x20 - x10)/d;\n",
        "      print('First intersection : ', x1,y1)\n",
        "      if a == r1 : return [x1,y1]\n",
        "      x2 = x0 - h*(y20 - y10)/d;\n",
        "      y2 = y0 + h*(x20 - x10)/d;\n",
        "      print('Second intersection : ', x2,y2)\n",
        "      return [x1,y1,x2,y2]\n",
        "    \n",
        "    def update(self,observations):\n",
        "      if observations['yellow_posts']:\n",
        "        dxl = observations['yellow_posts'][0][0]\n",
        "        dyl = observations['yellow_posts'][0][1]\n",
        "        r1 = sqrt(dxl**2+dyl**2)\n",
        "        dxR = observations['yellow_posts'][1][0]\n",
        "        dyR = observations['yellow_posts'][1][1]\n",
        "        r2 = sqrt(dxR**2+dyR**2)\n",
        "        x10 = self.landmarks['yellow_posts'][0][0]\n",
        "        y10 = self.landmarks['yellow_posts'][0][1]\n",
        "        x20 = self.landmarks['yellow_posts'][1][0]\n",
        "        y20 = self.landmarks['yellow_posts'][1][1]\n",
        "      else :\n",
        "        dxl = observations['blue_posts'][0][0]\n",
        "        dyl = observations['blue_posts'][0][1]\n",
        "        r1 = sqrt(dxl**2+dyl**2)\n",
        "        dxR = observations['blue_posts'][1][0]\n",
        "        dyR = observations['blue_posts'][1][1]\n",
        "        r2 = sqrt(dxR**2+dyR**2)\n",
        "        x10 = self.landmarks['blue_posts'][0][0]\n",
        "        y10 = self.landmarks['blue_posts'][0][1]\n",
        "        x20 = self.landmarks['blue_posts'][1][0]\n",
        "        y20 = self.landmarks['blue_posts'][1][1]\n",
        "      inter = self.get_points_of_intersection(x10, y10, r1 , x20, y20, r2)\n",
        "      if len(inter)==4: \n",
        "        newx = inter[2]\n",
        "        newy = inter[3]\n",
        "      else:  \n",
        "        newx = inter[0]\n",
        "        newy = inter[1]\n",
        "      newag = atan(newy/newx)\n",
        "      return inter[2], inter[3], newag"
      ]
    },
    {
      "cell_type": "code",
      "source": [
        "triang = localization_triangulation(Robot(0.0,0.0,0.0), landmarks)\n",
        "triang.update(observations)"
      ],
      "metadata": {
        "id": "Bsu-2wPaEhay",
        "outputId": "ce6c23f9-6980-4929-88b9-13673a172edb",
        "colab": {
          "base_uri": "https://localhost:8080/"
        }
      },
      "id": "Bsu-2wPaEhay",
      "execution_count": 17,
      "outputs": [
        {
          "output_type": "stream",
          "name": "stdout",
          "text": [
            "First intersection :  8.97720962654196 -0.14139999999999997\n",
            "Second intersection :  0.022790373458040136 -0.14139999999999997\n"
          ]
        },
        {
          "output_type": "execute_result",
          "data": {
            "text/plain": [
              "(0.022790373458040136, -0.14139999999999997, -1.4109940294767322)"
            ]
          },
          "metadata": {},
          "execution_count": 17
        }
      ]
    },
    {
      "cell_type": "markdown",
      "id": "freelance-messaging",
      "metadata": {
        "id": "freelance-messaging"
      },
      "source": [
        "### 2) Дополнить предыдущий пункт до альфа-бета фильтра (5 балла)"
      ]
    },
    {
      "cell_type": "code",
      "execution_count": null,
      "id": "cordless-messenger",
      "metadata": {
        "id": "cordless-messenger"
      },
      "outputs": [],
      "source": [
        "class localization_alphabeta:\n",
        "\n",
        "    def __init__(self,robot,landmarks):\n",
        "      self.robot = robot\n",
        "      self.landmarks = landmarks\n",
        "\n",
        "    def update(self,observations,shift):\n",
        "        alpha = 0.9\n",
        "        beta = 0.1\n",
        "        x_init = self.robot.x\n",
        "        y_init = self.robot.y\n",
        "        ang_init = self.robot.ang\n",
        "        x_od = (x_init + shift['shift_x'])*alpha\n",
        "        if shift['shift_angle']<0: y_od = (y_init - shift['shift_y'])*alpha\n",
        "        else: y_od = (y_init + shift['shift_y'])*alpha\n",
        "        ang_od = (ang_init + shift['shift_angle'])*alpha\n",
        "        triang = localization_triangulation((x_od,y_od,self.robot.ang), self.landmarks)\n",
        "        vision = triang.update(observations)\n",
        "        newx = x_od+vision[0]*beta\n",
        "        newy = y_od+vision[1]*beta\n",
        "        newang = ang_od+vision[2]*beta\n",
        "\n",
        "        return newx, newy, newang"
      ]
    },
    {
      "cell_type": "code",
      "source": [
        "loc = localization_alphabeta(Robot(0.0,0.0,0.0), landmarks)\n",
        "new_loc = loc.update(observations,shift)\n",
        "new_loc"
      ],
      "metadata": {
        "id": "4WoUInsDEuxK",
        "outputId": "99db7e7d-7fce-4a4a-ac39-71620875f7a2",
        "colab": {
          "base_uri": "https://localhost:8080/"
        }
      },
      "id": "4WoUInsDEuxK",
      "execution_count": 18,
      "outputs": [
        {
          "output_type": "stream",
          "name": "stdout",
          "text": [
            "First intersection :  8.97720962654196 -0.14139999999999997\n",
            "Second intersection :  0.022790373458040136 -0.14139999999999997\n"
          ]
        },
        {
          "output_type": "execute_result",
          "data": {
            "text/plain": [
              "(0.0022790373458040137, -0.02314, -0.5010994029476733)"
            ]
          },
          "metadata": {},
          "execution_count": 18
        }
      ]
    },
    {
      "cell_type": "markdown",
      "id": "vanilla-documentary",
      "metadata": {
        "id": "vanilla-documentary"
      },
      "source": [
        "### 3) *Дополнительно* Добавьте визуализацию вида сверху  (2 балла)"
      ]
    },
    {
      "cell_type": "markdown",
      "id": "polyphonic-extension",
      "metadata": {
        "id": "polyphonic-extension"
      },
      "source": [
        "Например на OpenCV или Matplotlib, например так как было в семинаре, чтобы можно было удобно посмотреть на работу модуля.\n"
      ]
    },
    {
      "cell_type": "code",
      "execution_count": 19,
      "id": "systematic-prairie",
      "metadata": {
        "id": "systematic-prairie"
      },
      "outputs": [],
      "source": [
        "parfield = {\n",
        "    'circles': [\n",
        "              [0.0,0.0,1.0]\n",
        "    ],\n",
        "    'lines': [\n",
        "              [[-3.0,3.0],[0.0,0.0]]\n",
        "    ],\n",
        "    'points': [\n",
        "              [0.0,0.0]\n",
        "    ],\n",
        "    'main_rectangle': [\n",
        "              [6.0,9.0]\n",
        "    ],\n",
        "    'rectangles': [\n",
        "              [[-1,-4.5],2,1],[[-1,3.5],2,1]\n",
        "    ]\n",
        "}"
      ]
    },
    {
      "cell_type": "code",
      "source": [
        "class Field:\n",
        "  def __init__(self, field_param):\n",
        "    self.field = field_param\n",
        "    self.w_width = field_param['main_rectangle'][0][0]\n",
        "    self.w_lenght = field_param['main_rectangle'][0][1]"
      ],
      "metadata": {
        "id": "E_eENVggFIsL"
      },
      "id": "E_eENVggFIsL",
      "execution_count": 20,
      "outputs": []
    },
    {
      "cell_type": "code",
      "source": [
        "import matplotlib.pylab as plt\n",
        "import math\n",
        "field = Field(parfield)\n",
        "def visualistion(robot, apr=True, factor=7):\n",
        "  plt.figure(\"Robot coordinates\", figsize=(field.w_width, field.w_lenght))\n",
        "  plt.title('Aplha-Beta filtre')\n",
        "\n",
        "  grid = [-field.w_width/2.0, field.w_width/2.0, -field.w_lenght/2.0, field.w_lenght/2.0]\n",
        "  ax = plt.axis(grid)\n",
        "\n",
        "  for el in field.field:\n",
        "    if el == 'circles':\n",
        "      for circle in field.field['circles']:\n",
        "        plot_circle = plt.Circle((circle[0], circle[1]), circle[2], linewidth=2, fill=False, edgecolor='#994c00')\n",
        "        plt.gca().add_patch(plot_circle)\n",
        "    if el == 'lines':\n",
        "      for line in field.field['lines']:\n",
        "        plot_line = plt.Line2D(line[0], line[1], linewidth=2, linestyle='-', color='#330000')\n",
        "        plt.gca().add_line(plot_line)\n",
        "    if el == 'rectangles':\n",
        "      for rectangle in field.field['rectangles']:\n",
        "        rect = plt.Rectangle(rectangle[0], rectangle[1], rectangle[2], linewidth=2, linestyle='-', fill=False)\n",
        "        plt.gca().add_patch(rect)\n",
        "\n",
        "    if apr != False:\n",
        "      circle = plt.Circle((robot.y, robot.x), 1./factor, facecolor='#FF66E9', edgecolor='#FF66E9')\n",
        "      plt.gca().add_patch(circle)\n",
        "\n",
        "      arrow = plt.Arrow(robot.y, robot.x, 3*math.sin(robot.ang)/factor, 3*math.cos(robot.ang)/factor, width=1/factor)\n",
        "      plt.gca().add_patch(arrow)"
      ],
      "metadata": {
        "id": "SCnuNrHrFLIx"
      },
      "id": "SCnuNrHrFLIx",
      "execution_count": 21,
      "outputs": []
    },
    {
      "cell_type": "code",
      "source": [
        "visualistion(Robot(0.0,0.0,0.0))"
      ],
      "metadata": {
        "id": "8UxgQa5qFM9S",
        "outputId": "86a3d6a7-7048-4bab-9da3-e8bc04a4f542",
        "colab": {
          "base_uri": "https://localhost:8080/",
          "height": 553
        }
      },
      "id": "8UxgQa5qFM9S",
      "execution_count": 22,
      "outputs": [
        {
          "output_type": "display_data",
          "data": {
            "text/plain": [
              "<Figure size 432x648 with 1 Axes>"
            ],
            "image/png": "[encoded data removed]"
          },
          "metadata": {
            "needs_background": "light"
          }
        }
      ]
    },
    {
      "cell_type": "code",
      "source": [
        "visualistion(Robot(new_loc[0],new_loc[1],new_loc[2]))"
      ],
      "metadata": {
        "id": "qEJF4udHFOzp",
        "outputId": "7999bb0a-08d8-4c14-b7a4-f5fd1a289108",
        "colab": {
          "base_uri": "https://localhost:8080/",
          "height": 553
        }
      },
      "id": "qEJF4udHFOzp",
      "execution_count": 23,
      "outputs": [
        {
          "output_type": "display_data",
          "data": {
            "text/plain": [
              "<Figure size 432x648 with 1 Axes>"
            ],
            "image/png": "[encoded data removed]"
          },
          "metadata": {
            "needs_background": "light"
          }
        }
      ]
    }
  ],
  "metadata": {
    "kernelspec": {
      "display_name": "Python 3",
      "language": "python",
      "name": "python3"
    },
    "language_info": {
      "codemirror_mode": {
        "name": "ipython",
        "version": 3
      },
      "file_extension": ".py",
      "mimetype": "text/x-python",
      "name": "python",
      "nbconvert_exporter": "python",
      "pygments_lexer": "ipython3",
      "version": "3.9.2"
    },
    "colab": {
      "name": "localization_hw8.ipynb",
      "provenance": []
    }
  },
  "nbformat": 4,
  "nbformat_minor": 5
}